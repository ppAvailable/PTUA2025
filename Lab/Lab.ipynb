{
 "cells": [
  {
   "cell_type": "code",
   "execution_count": 1,
   "id": "2b92c525-aa48-4fab-8fe9-113b96d59d7a",
   "metadata": {},
   "outputs": [],
   "source": [
    "x = 2 + 5"
   ]
  },
  {
   "cell_type": "code",
   "execution_count": 3,
   "id": "2830b90b-f23e-4bd3-b047-e1ee386a2444",
   "metadata": {},
   "outputs": [
    {
     "name": "stdout",
     "output_type": "stream",
     "text": [
      "7\n"
     ]
    }
   ],
   "source": [
    "print(x)"
   ]
  },
  {
   "cell_type": "code",
   "execution_count": null,
   "id": "847be569-f136-42f1-a821-462000946343",
   "metadata": {},
   "outputs": [],
   "source": []
  },
  {
   "cell_type": "code",
   "execution_count": null,
   "id": "00839924-e869-4a55-bc17-7cbeb0c6995f",
   "metadata": {},
   "outputs": [],
   "source": []
  },
  {
   "cell_type": "code",
   "execution_count": null,
   "id": "2babe9fa-fbc8-4141-8516-907553804932",
   "metadata": {},
   "outputs": [],
   "source": []
  }
 ],
 "metadata": {
  "kernelspec": {
   "display_name": "Python [conda env:base] *",
   "language": "python",
   "name": "conda-base-py"
  },
  "language_info": {
   "codemirror_mode": {
    "name": "ipython",
    "version": 3
   },
   "file_extension": ".py",
   "mimetype": "text/x-python",
   "name": "python",
   "nbconvert_exporter": "python",
   "pygments_lexer": "ipython3",
   "version": "3.12.7"
  }
 },
 "nbformat": 4,
 "nbformat_minor": 5
}
